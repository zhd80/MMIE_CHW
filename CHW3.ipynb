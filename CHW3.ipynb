{
  "cells": [
    {
      "cell_type": "markdown",
      "metadata": {
        "id": "view-in-github",
        "colab_type": "text"
      },
      "source": [
        "<a href=\"https://colab.research.google.com/github/zhd80/MMIE_CHW/blob/main/CHW3.ipynb\" target=\"_parent\"><img src=\"https://colab.research.google.com/assets/colab-badge.svg\" alt=\"Open In Colab\"/></a>"
      ]
    },
    {
      "cell_type": "markdown",
      "id": "6DjNbXa-VC9M",
      "metadata": {
        "id": "6DjNbXa-VC9M"
      },
      "source": [
        "<h1 align=\"center\">Mathematical Methods In Engineering - 25872</h1>\n",
        "<h4 align=\"center\">Dr. Amiri</h4>\n",
        "<h4 align=\"center\">Sharif University of Technology, Fall 2023</h4>\n",
        "<h4 align=\"center\">Python Assignment 3</h4>\n",
        "<h5 align=\"center\"><font color=\"cyan\"> Feel free to contact TA team for any possible questions about the assignment </font>\n",
        " </h5>\n",
        "<h5 align=\"center\"> <font color=\"cyan\"> Questions 1,2: @mh_momeni  -  Question 2,3: @Mahdi_h721 </font> </h5>\n"
      ]
    },
    {
      "cell_type": "markdown",
      "id": "dOy5BexzYrKT",
      "metadata": {
        "id": "dOy5BexzYrKT"
      },
      "source": [
        "You should write your code in the <font color='green'>Code Cell</font> and then run the <font color='green'>Evaluation Cell</font> to check the correctness of your code.<br>\n",
        "<font color='red'>**Please do not edit the codes in the Evaluation Cells.**</font>"
      ]
    },
    {
      "cell_type": "markdown",
      "id": "QCr2_h8H1j9e",
      "metadata": {
        "id": "QCr2_h8H1j9e"
      },
      "source": [
        "##  Q1. Implementing QR Factorization <sub><sup>``(40 pt.)``</sup></sub>"
      ]
    },
    {
      "cell_type": "markdown",
      "id": "6CfoujGZ4xGM",
      "metadata": {
        "id": "6CfoujGZ4xGM"
      },
      "source": [
        ">In this question, we are going to use QR factorization in computing eigenvalues. It is an important building block in numerical linear algebra. Recall that for any matrix $A$\n",
        ", $A=QR$\n",
        " where $Q$\n",
        " is orthogonal and $R$\n",
        " is upper-triangular.\n",
        "\n",
        " **Reminder**: The QR algorithm, uses the QR decomposition, but don't confuse the two."
      ]
    },
    {
      "cell_type": "code",
      "execution_count": 5,
      "id": "R4sLJJSJ9uB3",
      "metadata": {
        "id": "R4sLJJSJ9uB3"
      },
      "outputs": [],
      "source": [
        "import numpy as np\n",
        "np.set_printoptions(suppress=True, precision=4)"
      ]
    },
    {
      "cell_type": "code",
      "execution_count": 6,
      "id": "fPvw9v0z9w6-",
      "metadata": {
        "id": "fPvw9v0z9w6-"
      },
      "outputs": [],
      "source": [
        "n = 5\n",
        "A = np.random.rand(n,n)\n",
        "npQ, npR = np.linalg.qr(A)"
      ]
    },
    {
      "cell_type": "markdown",
      "id": "yfK0pVK-Expw",
      "metadata": {
        "id": "yfK0pVK-Expw"
      },
      "source": [
        "Check that Q is orthogonal:\n"
      ]
    },
    {
      "cell_type": "code",
      "execution_count": 7,
      "id": "L1j3vt0A93Sw",
      "metadata": {
        "id": "L1j3vt0A93Sw",
        "colab": {
          "base_uri": "https://localhost:8080/"
        },
        "outputId": "1d98e38b-5cd4-46cb-c510-df9b674f1e95"
      },
      "outputs": [
        {
          "output_type": "execute_result",
          "data": {
            "text/plain": [
              "(True, True)"
            ]
          },
          "metadata": {},
          "execution_count": 7
        }
      ],
      "source": [
        "np.allclose(np.eye(n), npQ @ npQ.T), np.allclose(np.eye(n), npQ.T @ npQ)"
      ]
    },
    {
      "cell_type": "markdown",
      "id": "lv1epi73E3u4",
      "metadata": {
        "id": "lv1epi73E3u4"
      },
      "source": [
        "Check that R is triangular"
      ]
    },
    {
      "cell_type": "code",
      "execution_count": 8,
      "id": "Wy0964ib948O",
      "metadata": {
        "id": "Wy0964ib948O",
        "colab": {
          "base_uri": "https://localhost:8080/"
        },
        "outputId": "0cf2e556-2490-42de-f75c-3b2c4162038c"
      },
      "outputs": [
        {
          "output_type": "execute_result",
          "data": {
            "text/plain": [
              "array([[-1.3203, -0.833 , -1.3711, -1.5512, -0.6664],\n",
              "       [ 0.    ,  0.596 ,  0.0806,  0.173 ,  0.217 ],\n",
              "       [ 0.    ,  0.    , -0.7549, -0.3537, -0.3227],\n",
              "       [ 0.    ,  0.    ,  0.    , -0.643 ,  0.1314],\n",
              "       [ 0.    ,  0.    ,  0.    ,  0.    , -0.2126]])"
            ]
          },
          "metadata": {},
          "execution_count": 8
        }
      ],
      "source": [
        "npR"
      ]
    },
    {
      "cell_type": "markdown",
      "id": "rm3YBjTgE7JI",
      "metadata": {
        "id": "rm3YBjTgE7JI"
      },
      "source": [
        "### Gram-Schmidt\n",
        "\n",
        "#### Classical Gram-Schmidt (unstable)"
      ]
    },
    {
      "cell_type": "markdown",
      "id": "RgkGF9QrFGIo",
      "metadata": {
        "id": "RgkGF9QrFGIo"
      },
      "source": [
        "For each $j$\n",
        ", calculate a single projection\n",
        "\n",
        "$$v_j=P_ja_j$$\n",
        "\n",
        "where $P_j$\n",
        " projects onto the space orthogonal to the span of $q_1,…,q_{j−1}$\n",
        "."
      ]
    },
    {
      "cell_type": "code",
      "execution_count": 9,
      "id": "MCMlpcCq95n5",
      "metadata": {
        "id": "MCMlpcCq95n5"
      },
      "outputs": [],
      "source": [
        "def cgs(A):\n",
        "    m, n = A.shape\n",
        "    Q = np.zeros([m,n], dtype=np.float64)\n",
        "    R = np.zeros([n,n], dtype=np.float64)\n",
        "    ##Your Code start here\n",
        "    for j in range(n):\n",
        "        v = A[:, j]\n",
        "        for i in range(j):\n",
        "            R[i, j] = np.dot(Q[:, i], A[:, j])\n",
        "            v = v - R[i, j] * Q[:, i]\n",
        "        R[j, j] = np.linalg.norm(v)\n",
        "        Q[:, j] = v / R[j, j]\n",
        "    ##Your Code ends here\n",
        "    return Q, R"
      ]
    },
    {
      "cell_type": "code",
      "execution_count": 10,
      "id": "IJFWOh9K99sQ",
      "metadata": {
        "id": "IJFWOh9K99sQ",
        "colab": {
          "base_uri": "https://localhost:8080/"
        },
        "outputId": "21fd1f4c-8d37-46ae-fd7e-2a5e8607ee11"
      },
      "outputs": [
        {
          "output_type": "execute_result",
          "data": {
            "text/plain": [
              "True"
            ]
          },
          "metadata": {},
          "execution_count": 10
        }
      ],
      "source": [
        "Q, R = cgs(A)\n",
        "np.allclose(A, Q @ R)"
      ]
    },
    {
      "cell_type": "markdown",
      "id": "wvRgVEVZF6Hh",
      "metadata": {
        "id": "wvRgVEVZF6Hh"
      },
      "source": [
        "Check if Q is unitary:"
      ]
    },
    {
      "cell_type": "code",
      "execution_count": 11,
      "id": "zvlHJzXJ-AuZ",
      "metadata": {
        "id": "zvlHJzXJ-AuZ",
        "colab": {
          "base_uri": "https://localhost:8080/"
        },
        "outputId": "e948f9c6-9deb-4f0f-f12d-6026ddbcef2e"
      },
      "outputs": [
        {
          "output_type": "execute_result",
          "data": {
            "text/plain": [
              "True"
            ]
          },
          "metadata": {},
          "execution_count": 11
        }
      ],
      "source": [
        "np.allclose(np.eye(len(Q)), Q.dot(Q.T))"
      ]
    },
    {
      "cell_type": "markdown",
      "id": "DldiZxrZGP32",
      "metadata": {
        "id": "DldiZxrZGP32"
      },
      "source": [
        "### Modified Gram-Schmidt (optional)"
      ]
    },
    {
      "cell_type": "markdown",
      "id": "Z1EjpGz7GSjv",
      "metadata": {
        "id": "Z1EjpGz7GSjv"
      },
      "source": [
        "Classical (unstable) Gram-Schmidt: for each $j$\n",
        ", calculate a single projection\n",
        "$$v_j=P_ja_j$$\n",
        "where $P_j$\n",
        " projects onto the space orthogonal to the span of $q_1,…,q_{j−1}$\n",
        ".\n",
        "\n",
        "Modified Gram-Schmidt: for each $j$\n",
        ", calculate $j−1$\n",
        " projections\n",
        "$$P_j=P_{⊥q_{j−1}⋯⊥q_2⊥q_1}$$"
      ]
    },
    {
      "cell_type": "code",
      "execution_count": 12,
      "id": "XAzJVdl_-GGC",
      "metadata": {
        "id": "XAzJVdl_-GGC"
      },
      "outputs": [],
      "source": [
        "n = 3\n",
        "A = np.random.rand(n,n).astype(np.float64)"
      ]
    },
    {
      "cell_type": "code",
      "execution_count": 13,
      "id": "c7LcnTVf-PJL",
      "metadata": {
        "id": "c7LcnTVf-PJL"
      },
      "outputs": [],
      "source": [
        "def mgs(A):\n",
        "    V = A.copy()\n",
        "    m, n = A.shape\n",
        "    Q = np.zeros([m,n], dtype=np.float64)\n",
        "    R = np.zeros([n,n], dtype=np.float64)\n",
        "    ##Your Code start here\n",
        "    for j in range(n):\n",
        "        for i in range(j):\n",
        "            R[i, j] = np.dot(Q[:, i].conj(), V[:, j])\n",
        "            V[:, j] = V[:, j] - R[i, j] * Q[:, i]\n",
        "\n",
        "        R[j, j] = np.linalg.norm(V[:, j])\n",
        "        Q[:, j] = V[:, j] / R[j, j]\n",
        "\n",
        "    ##Your Code ends here\n",
        "    return Q, R"
      ]
    },
    {
      "cell_type": "code",
      "execution_count": 14,
      "id": "ym6szX9k-PmN",
      "metadata": {
        "id": "ym6szX9k-PmN",
        "colab": {
          "base_uri": "https://localhost:8080/"
        },
        "outputId": "ad5ffbf9-8913-499c-87c8-e8c9e26aadc6"
      },
      "outputs": [
        {
          "output_type": "execute_result",
          "data": {
            "text/plain": [
              "True"
            ]
          },
          "metadata": {},
          "execution_count": 14
        }
      ],
      "source": [
        "Q, R = mgs(A)\n",
        "np.allclose(np.eye(len(Q)), Q.dot(Q.T.conj()))"
      ]
    },
    {
      "cell_type": "code",
      "execution_count": 15,
      "id": "98KQly59-Rje",
      "metadata": {
        "id": "98KQly59-Rje",
        "colab": {
          "base_uri": "https://localhost:8080/"
        },
        "outputId": "72917a2e-8cf3-4b94-99bd-86d2974f117f"
      },
      "outputs": [
        {
          "output_type": "execute_result",
          "data": {
            "text/plain": [
              "True"
            ]
          },
          "metadata": {},
          "execution_count": 15
        }
      ],
      "source": [
        "np.allclose(A, np.matmul(Q,R))"
      ]
    },
    {
      "cell_type": "markdown",
      "id": "e12E2lxUHPww",
      "metadata": {
        "id": "e12E2lxUHPww"
      },
      "source": [
        "### Classical vs Modified Gram-Schmidt"
      ]
    },
    {
      "cell_type": "markdown",
      "id": "b3cNqFaKHbXv",
      "metadata": {
        "id": "b3cNqFaKHbXv"
      },
      "source": [
        "In this part, we want to construct a square matrix $A$ with random singular vectors and widely varying singular values spaced by factors of 2 between $2^{−1}$\n",
        " and $2^{−(n+1)}$"
      ]
    },
    {
      "cell_type": "code",
      "execution_count": 16,
      "id": "ceyXm3VS-TGr",
      "metadata": {
        "id": "ceyXm3VS-TGr"
      },
      "outputs": [],
      "source": [
        "import matplotlib.pyplot as plt\n",
        "from matplotlib import rcParams\n",
        "%matplotlib inline"
      ]
    },
    {
      "cell_type": "code",
      "execution_count": 17,
      "id": "YwQJQo0w-X2h",
      "metadata": {
        "id": "YwQJQo0w-X2h"
      },
      "outputs": [],
      "source": [
        "n = 100\n",
        "U, X = np.linalg.qr(np.random.randn(n,n))   # set U to a random orthogonal matrix\n",
        "V, X = np.linalg.qr(np.random.randn(n,n))   # set V to a random orthogonal matrix\n",
        "S = np.diag(np.power(2,np.arange(-1,-(n+1),-1), dtype=float))  # Set S to a diagonal matrix w/ exp\n",
        "                                                              # values between 2^-1 and 2^-(n+1)"
      ]
    },
    {
      "cell_type": "code",
      "execution_count": 18,
      "id": "u3545jUo-af-",
      "metadata": {
        "id": "u3545jUo-af-"
      },
      "outputs": [],
      "source": [
        "A = np.matmul(U,np.matmul(S,V))\n",
        "QC, RC = cgs(A)\n",
        "QM, RM = mgs(A) # if you don't complete the mgs function, comment this line"
      ]
    },
    {
      "cell_type": "code",
      "execution_count": 19,
      "id": "e0D2Mkyz-dwA",
      "metadata": {
        "id": "e0D2Mkyz-dwA",
        "colab": {
          "base_uri": "https://localhost:8080/",
          "height": 638
        },
        "outputId": "660a6ca2-31c5-4c29-ccf4-d47f5ca344ab"
      },
      "outputs": [
        {
          "output_type": "display_data",
          "data": {
            "text/plain": [
              "<Figure size 1000x1000 with 1 Axes>"
            ],
            "image/png": "[encoded data removed]"
          },
          "metadata": {}
        }
      ],
      "source": [
        "plt.figure(figsize=(10,10))\n",
        "plt.semilogy(np.diag(S), 'r.', label=\"True Singular Values\")\n",
        "plt.semilogy(np.diag(RM), 'go', label=\"Modified Gram-Shmidt\")\n",
        "plt.semilogy(np.diag(RC), 'bx', label=\"Classic Gram-Shmidt\")\n",
        "plt.legend()\n",
        "rcParams.update({'font.size': 18})"
      ]
    },
    {
      "cell_type": "markdown",
      "id": "jZ1QS_ZPIjfr",
      "metadata": {
        "id": "jZ1QS_ZPIjfr"
      },
      "source": [
        "### Eigenvalue Decomposition using QR Factorization"
      ]
    },
    {
      "cell_type": "markdown",
      "id": "9dT9pBQxJa6q",
      "metadata": {
        "id": "9dT9pBQxJa6q"
      },
      "source": [
        "Use the QR algorithm (or QR method) to get the eigenvalues of matrix $A$. Do 100 iterations, and print out the 1st, 5th, 10th, 20th and 100th iteration.\n",
        "\n",
        " **Reminder**: The QR algorithm (or QR method), uses the QR factorization, but don't confuse the two."
      ]
    },
    {
      "cell_type": "code",
      "execution_count": 21,
      "id": "Gj7SxG6xKyTp",
      "metadata": {
        "id": "Gj7SxG6xKyTp",
        "colab": {
          "base_uri": "https://localhost:8080/",
          "height": 349
        },
        "outputId": "4e4021ca-cad5-4dde-b576-0d0e4d8d4b4b"
      },
      "outputs": [
        {
          "output_type": "error",
          "ename": "NameError",
          "evalue": "name 'qr' is not defined",
          "traceback": [
            "\u001b[0;31m---------------------------------------------------------------------------\u001b[0m",
            "\u001b[0;31mNameError\u001b[0m                                 Traceback (most recent call last)",
            "\u001b[0;32m<ipython-input-21-970870a6235a>\u001b[0m in \u001b[0;36m<cell line: 10>\u001b[0;34m()\u001b[0m\n\u001b[1;32m      8\u001b[0m \u001b[0;34m\u001b[0m\u001b[0m\n\u001b[1;32m      9\u001b[0m \u001b[0;31m# Call the qr_algorithm function\u001b[0m\u001b[0;34m\u001b[0m\u001b[0;34m\u001b[0m\u001b[0m\n\u001b[0;32m---> 10\u001b[0;31m \u001b[0mqr_algorithm\u001b[0m\u001b[0;34m(\u001b[0m\u001b[0mA\u001b[0m\u001b[0;34m,\u001b[0m \u001b[0;36m100\u001b[0m\u001b[0;34m)\u001b[0m\u001b[0;34m\u001b[0m\u001b[0;34m\u001b[0m\u001b[0m\n\u001b[0m\u001b[1;32m     11\u001b[0m \u001b[0;31m##Your Code ends here\u001b[0m\u001b[0;34m\u001b[0m\u001b[0;34m\u001b[0m\u001b[0m\n",
            "\u001b[0;32m<ipython-input-21-970870a6235a>\u001b[0m in \u001b[0;36mqr_algorithm\u001b[0;34m(A, iterations)\u001b[0m\n\u001b[1;32m      2\u001b[0m \u001b[0;32mdef\u001b[0m \u001b[0mqr_algorithm\u001b[0m\u001b[0;34m(\u001b[0m\u001b[0mA\u001b[0m\u001b[0;34m,\u001b[0m \u001b[0miterations\u001b[0m\u001b[0;34m)\u001b[0m\u001b[0;34m:\u001b[0m\u001b[0;34m\u001b[0m\u001b[0;34m\u001b[0m\u001b[0m\n\u001b[1;32m      3\u001b[0m     \u001b[0;32mfor\u001b[0m \u001b[0mi\u001b[0m \u001b[0;32min\u001b[0m \u001b[0mrange\u001b[0m\u001b[0;34m(\u001b[0m\u001b[0miterations\u001b[0m\u001b[0;34m)\u001b[0m\u001b[0;34m:\u001b[0m\u001b[0;34m\u001b[0m\u001b[0;34m\u001b[0m\u001b[0m\n\u001b[0;32m----> 4\u001b[0;31m         \u001b[0mQ\u001b[0m\u001b[0;34m,\u001b[0m \u001b[0mR\u001b[0m \u001b[0;34m=\u001b[0m \u001b[0mqr\u001b[0m\u001b[0;34m(\u001b[0m\u001b[0mA\u001b[0m\u001b[0;34m)\u001b[0m\u001b[0;34m\u001b[0m\u001b[0;34m\u001b[0m\u001b[0m\n\u001b[0m\u001b[1;32m      5\u001b[0m         \u001b[0mA\u001b[0m \u001b[0;34m=\u001b[0m \u001b[0mnp\u001b[0m\u001b[0;34m.\u001b[0m\u001b[0mdot\u001b[0m\u001b[0;34m(\u001b[0m\u001b[0mR\u001b[0m\u001b[0;34m,\u001b[0m \u001b[0mQ\u001b[0m\u001b[0;34m)\u001b[0m\u001b[0;34m\u001b[0m\u001b[0;34m\u001b[0m\u001b[0m\n\u001b[1;32m      6\u001b[0m         \u001b[0;32mif\u001b[0m \u001b[0mi\u001b[0m \u001b[0;34m+\u001b[0m \u001b[0;36m1\u001b[0m \u001b[0;32min\u001b[0m \u001b[0;34m[\u001b[0m\u001b[0;36m1\u001b[0m\u001b[0;34m,\u001b[0m \u001b[0;36m5\u001b[0m\u001b[0;34m,\u001b[0m \u001b[0;36m10\u001b[0m\u001b[0;34m,\u001b[0m \u001b[0;36m20\u001b[0m\u001b[0;34m,\u001b[0m \u001b[0;36m100\u001b[0m\u001b[0;34m]\u001b[0m\u001b[0;34m:\u001b[0m\u001b[0;34m\u001b[0m\u001b[0;34m\u001b[0m\u001b[0m\n",
            "\u001b[0;31mNameError\u001b[0m: name 'qr' is not defined"
          ]
        }
      ],
      "source": [
        "##Your Code start here\n",
        "def qr_algorithm(A, iterations):\n",
        "    for i in range(iterations):\n",
        "        Q, R = qr(A)\n",
        "        A = np.dot(R, Q)\n",
        "        if i + 1 in [1, 5, 10, 20, 100]:\n",
        "            print(f\"Iteration {i+1}:\\n\", np.diag(A))\n",
        "\n",
        "# Call the qr_algorithm function\n",
        "qr_algorithm(A, 100)\n",
        "##Your Code ends here"
      ]
    },
    {
      "cell_type": "code",
      "execution_count": 22,
      "id": "-a8L5pUdA39M",
      "metadata": {
        "id": "-a8L5pUdA39M",
        "colab": {
          "base_uri": "https://localhost:8080/"
        },
        "outputId": "88de2404-c091-482c-ac93-1535dac76dd4"
      },
      "outputs": [
        {
          "output_type": "stream",
          "name": "stdout",
          "text": [
            "The matrix: \n",
            " [[ 1. -1.  0.  0.]\n",
            " [-1.  1. -1.  0.]\n",
            " [ 0. -1.  2.  0.]\n",
            " [ 0.  0.  0.  3.]]\n",
            "\n",
            " --- Built-in ---\n",
            "[-0.247   1.445   2.8019  3.    ]\n"
          ]
        }
      ],
      "source": [
        "A = np.array([1.0, -1.0, 0.0, 0.0, -1.0, 1.0, -1.0, 0.0, 0.0, -1.0, 2.0, 0.0, 0.0, 0.0, 0.0, 3.0]).reshape((4, 4))\n",
        "print(\"The matrix: \\n\", A)\n",
        "\n",
        "print(\"\\n --- Built-in ---\")\n",
        "print(np.linalg.eig(A)[0])\n",
        "##Your Code start here\n",
        "\n",
        "##Your Code ends here"
      ]
    },
    {
      "cell_type": "markdown",
      "id": "BDu8bga2x_yv",
      "metadata": {
        "id": "BDu8bga2x_yv"
      },
      "source": [
        "##  Q2. SVD & Image processing <sub><sup>``(30 pt.)``</sup></sub>"
      ]
    },
    {
      "cell_type": "markdown",
      "id": "WAE9_Yh1yYHi",
      "metadata": {
        "id": "WAE9_Yh1yYHi"
      },
      "source": [
        "> In this question, we are going to investigate the use of SVD as a tool to obtain the basis of the matrix in digital image processing.\n",
        "The first issue we will examine is image compression. For this purpose, in general, we can consider the information inside the image as a data matrix, then find a suitable basis for this information matrix and by depicting the primary matrix on the more important basis vectors and keeping the necessary information to show the initial image with less information.\n",
        "This process results in image compression. It should be noted that for simplicity, the images we are examining in this exercise are in black and white.\n",
        ">With the help of SVD, we can find a basis for the column space of the image matrix that we want, so that the columns of the image matrix have the highest correlation with the basis vectors.\n",
        ">On the other hand, if these bases are considered in descending order of the size of the singular values, they will contain the most general information of the columns of the image, so by keeping only r initial columns of the found bases (U) along with the combined vectors (V) and the singular values (Σ) corresponding to them, we can retain the image's overall image with a good approximation.\n",
        ">From an expert point of view, the reconstruction is actually a lower-order reconstruction of the primary matrix.\n",
        "In this view, the value of r is the parameter to control the amount of compression we want."
      ]
    },
    {
      "cell_type": "markdown",
      "id": "RtD2d_PYziE6",
      "metadata": {
        "id": "RtD2d_PYziE6"
      },
      "source": [
        "###  part 1\n",
        "\n",
        "In this part, the compression operation is performed on the input black and white image with the help of SVD analysis. One of the criteria for comparing the initial and final image is the PSNR criterion. Research about this criterion and draw the PSNR diagram in terms of different r. Then compare the results with the diagram by giving some test inputs and plotting the outputs.\n",
        "One of the inputs you give to the function should be the image pic.jpg."
      ]
    },
    {
      "cell_type": "code",
      "execution_count": 2,
      "id": "sc0h77aLyW0Q",
      "metadata": {
        "id": "sc0h77aLyW0Q",
        "colab": {
          "base_uri": "https://localhost:8080/",
          "height": 407
        },
        "outputId": "afa37840-110c-4d4a-d572-9d3e46b3dc3e"
      },
      "outputs": [
        {
          "output_type": "error",
          "ename": "LinAlgError",
          "evalue": "0-dimensional array given. Array must be at least two-dimensional",
          "traceback": [
            "\u001b[0;31m---------------------------------------------------------------------------\u001b[0m",
            "\u001b[0;31mLinAlgError\u001b[0m                               Traceback (most recent call last)",
            "\u001b[0;32m<ipython-input-2-eabc827deb53>\u001b[0m in \u001b[0;36m<cell line: 12>\u001b[0;34m()\u001b[0m\n\u001b[1;32m     10\u001b[0m \u001b[0;34m\u001b[0m\u001b[0m\n\u001b[1;32m     11\u001b[0m \u001b[0;31m# Perform SVD\u001b[0m\u001b[0;34m\u001b[0m\u001b[0;34m\u001b[0m\u001b[0m\n\u001b[0;32m---> 12\u001b[0;31m \u001b[0mU\u001b[0m\u001b[0;34m,\u001b[0m \u001b[0mS\u001b[0m\u001b[0;34m,\u001b[0m \u001b[0mVt\u001b[0m \u001b[0;34m=\u001b[0m \u001b[0mnp\u001b[0m\u001b[0;34m.\u001b[0m\u001b[0mlinalg\u001b[0m\u001b[0;34m.\u001b[0m\u001b[0msvd\u001b[0m\u001b[0;34m(\u001b[0m\u001b[0mimg\u001b[0m\u001b[0;34m,\u001b[0m \u001b[0mfull_matrices\u001b[0m\u001b[0;34m=\u001b[0m\u001b[0;32mFalse\u001b[0m\u001b[0;34m)\u001b[0m\u001b[0;34m\u001b[0m\u001b[0;34m\u001b[0m\u001b[0m\n\u001b[0m\u001b[1;32m     13\u001b[0m \u001b[0;34m\u001b[0m\u001b[0m\n\u001b[1;32m     14\u001b[0m \u001b[0;31m# Function to reconstruct the image using r components\u001b[0m\u001b[0;34m\u001b[0m\u001b[0;34m\u001b[0m\u001b[0m\n",
            "\u001b[0;32m/usr/local/lib/python3.10/dist-packages/numpy/core/overrides.py\u001b[0m in \u001b[0;36msvd\u001b[0;34m(*args, **kwargs)\u001b[0m\n",
            "\u001b[0;32m/usr/local/lib/python3.10/dist-packages/numpy/linalg/linalg.py\u001b[0m in \u001b[0;36msvd\u001b[0;34m(a, full_matrices, compute_uv, hermitian)\u001b[0m\n\u001b[1;32m   1636\u001b[0m             \u001b[0;32mreturn\u001b[0m \u001b[0msort\u001b[0m\u001b[0;34m(\u001b[0m\u001b[0ms\u001b[0m\u001b[0;34m)\u001b[0m\u001b[0;34m[\u001b[0m\u001b[0;34m...\u001b[0m\u001b[0;34m,\u001b[0m \u001b[0;34m:\u001b[0m\u001b[0;34m:\u001b[0m\u001b[0;34m-\u001b[0m\u001b[0;36m1\u001b[0m\u001b[0;34m]\u001b[0m\u001b[0;34m\u001b[0m\u001b[0;34m\u001b[0m\u001b[0m\n\u001b[1;32m   1637\u001b[0m \u001b[0;34m\u001b[0m\u001b[0m\n\u001b[0;32m-> 1638\u001b[0;31m     \u001b[0m_assert_stacked_2d\u001b[0m\u001b[0;34m(\u001b[0m\u001b[0ma\u001b[0m\u001b[0;34m)\u001b[0m\u001b[0;34m\u001b[0m\u001b[0;34m\u001b[0m\u001b[0m\n\u001b[0m\u001b[1;32m   1639\u001b[0m     \u001b[0mt\u001b[0m\u001b[0;34m,\u001b[0m \u001b[0mresult_t\u001b[0m \u001b[0;34m=\u001b[0m \u001b[0m_commonType\u001b[0m\u001b[0;34m(\u001b[0m\u001b[0ma\u001b[0m\u001b[0;34m)\u001b[0m\u001b[0;34m\u001b[0m\u001b[0;34m\u001b[0m\u001b[0m\n\u001b[1;32m   1640\u001b[0m \u001b[0;34m\u001b[0m\u001b[0m\n",
            "\u001b[0;32m/usr/local/lib/python3.10/dist-packages/numpy/linalg/linalg.py\u001b[0m in \u001b[0;36m_assert_stacked_2d\u001b[0;34m(*arrays)\u001b[0m\n\u001b[1;32m    195\u001b[0m     \u001b[0;32mfor\u001b[0m \u001b[0ma\u001b[0m \u001b[0;32min\u001b[0m \u001b[0marrays\u001b[0m\u001b[0;34m:\u001b[0m\u001b[0;34m\u001b[0m\u001b[0;34m\u001b[0m\u001b[0m\n\u001b[1;32m    196\u001b[0m         \u001b[0;32mif\u001b[0m \u001b[0ma\u001b[0m\u001b[0;34m.\u001b[0m\u001b[0mndim\u001b[0m \u001b[0;34m<\u001b[0m \u001b[0;36m2\u001b[0m\u001b[0;34m:\u001b[0m\u001b[0;34m\u001b[0m\u001b[0;34m\u001b[0m\u001b[0m\n\u001b[0;32m--> 197\u001b[0;31m             raise LinAlgError('%d-dimensional array given. Array must be '\n\u001b[0m\u001b[1;32m    198\u001b[0m                     'at least two-dimensional' % a.ndim)\n\u001b[1;32m    199\u001b[0m \u001b[0;34m\u001b[0m\u001b[0m\n",
            "\u001b[0;31mLinAlgError\u001b[0m: 0-dimensional array given. Array must be at least two-dimensional"
          ]
        }
      ],
      "source": [
        "##Your Code start here\n",
        "import cv2\n",
        "import numpy as np\n",
        "import matplotlib.pyplot as plt\n",
        "\n",
        "# Part 1: Image compression using SVD\n",
        "\n",
        "# Load the image\n",
        "img = cv2.imread('pic.jpg', cv2.IMREAD_GRAYSCALE)\n",
        "\n",
        "# Perform SVD\n",
        "U, S, Vt = np.linalg.svd(img, full_matrices=False)\n",
        "\n",
        "# Function to reconstruct the image using r components\n",
        "def reconstruct_image(U, S, Vt, r):\n",
        "    return np.dot(U[:, :r], np.dot(np.diag(S[:r]), Vt[:r, :]))\n",
        "\n",
        "# Calculate the PSNR\n",
        "def calculate_psnr(original, compressed):\n",
        "    mse = np.mean((original - compressed) ** 2)\n",
        "    max_pixel = 255.0\n",
        "    return 20 * np.log10(max_pixel / np.sqrt(mse))\n",
        "\n",
        "# Plot the PSNR diagram\n",
        "psnr_values = []\n",
        "r_values = range(1, 100, 5)  # You can adjust the range of r values\n",
        "for r in r_values:\n",
        "    reconstructed_img = reconstruct_image(U, S, Vt, r)\n",
        "    psnr = calculate_psnr(img, reconstructed_img)\n",
        "    psnr_values.append(psnr)\n",
        "\n",
        "plt.plot(r_values, psnr_values)\n",
        "plt.xlabel('r')\n",
        "plt.ylabel('PSNR (dB)')\n",
        "plt.title('PSNR vs. r for image compression')\n",
        "plt.show()\n",
        "##Your Code ends here"
      ]
    },
    {
      "cell_type": "markdown",
      "id": "JWpFf4861Ct7",
      "metadata": {
        "id": "JWpFf4861Ct7"
      },
      "source": [
        "###  part 2\n",
        "\n",
        "Another issue that we can explore with a similar idea of applying base transform is removing noise from images. In the condition that the noise in the image is uniform and in such a way that it does not distort the general information in the image. from the point of view of SVD, according to the examination of the general information, the direction of the image vector on bases with larger singular values has not changed much, and removing the information related to Examining general information to vectors with less importance can remove noise and keep the main information of the image.\n",
        "In this part, add two different noises salt and pepper and Gaussian noise with a desired and appropriate range to the image pic.jpg so that the PSNR of both images is in the same range, then perform the noise reduction process with the help of SVD analysis.\n",
        "For both noises, draw the PSNR diagram in terms of different r.\n",
        "  Then compare the results with the graph by plotting a number of outputs.\n",
        "  Which of the noises is more effective in this method?\n"
      ]
    },
    {
      "cell_type": "code",
      "execution_count": null,
      "id": "yGwLKf0G5xcs",
      "metadata": {
        "id": "yGwLKf0G5xcs"
      },
      "outputs": [],
      "source": [
        "##Your Code start here\n",
        "\n",
        "##Your Code ends here"
      ]
    },
    {
      "cell_type": "markdown",
      "id": "bggG3YqIVC9U",
      "metadata": {
        "id": "bggG3YqIVC9U"
      },
      "source": [
        "##  Q3. PCA and Clustering <sub><sup>``(40 pt.)``</sup></sub>\n",
        "In this problem we want to cluster some data points.\n",
        "But first, you should reduce the number of features by the PCA algorithm then use kmeans clustering algorithm"
      ]
    },
    {
      "cell_type": "code",
      "execution_count": null,
      "id": "edfcb7ac",
      "metadata": {
        "id": "edfcb7ac"
      },
      "outputs": [],
      "source": [
        "import pandas as pd\n",
        "import numpy as np\n",
        "import seaborn as sns\n",
        "from tqdm import tqdm\n",
        "import matplotlib.pyplot as plt\n",
        "import matplotlib.cm as cm\n",
        "from sklearn.cluster import KMeans, AgglomerativeClustering, DBSCAN\n",
        "from yellowbrick.cluster import KElbowVisualizer\n",
        "from sklearn.metrics import silhouette_score as sil, calinski_harabasz_score as chs, silhouette_samples"
      ]
    },
    {
      "cell_type": "markdown",
      "id": "5f6c3b6d",
      "metadata": {
        "id": "5f6c3b6d"
      },
      "source": [
        "### Import Dataset"
      ]
    },
    {
      "cell_type": "code",
      "execution_count": null,
      "id": "2b9f3131",
      "metadata": {
        "id": "2b9f3131"
      },
      "outputs": [],
      "source": [
        "Datapoint = pd.read_csv('Datapoint.csv')\n"
      ]
    },
    {
      "cell_type": "markdown",
      "id": "5518de74",
      "metadata": {
        "id": "5518de74"
      },
      "source": [
        "### Correlation Heatmap"
      ]
    },
    {
      "cell_type": "markdown",
      "id": "E3zbMA6q2XR2",
      "metadata": {
        "id": "E3zbMA6q2XR2"
      },
      "source": [
        "In this part plot the correlation Heatmap of features.\n",
        "what is your suggestion about the number of principal components that they have high variance? Explain why."
      ]
    },
    {
      "cell_type": "code",
      "execution_count": null,
      "id": "e41be92d",
      "metadata": {
        "id": "e41be92d"
      },
      "outputs": [],
      "source": [
        "##Your Code start here\n",
        "\n",
        "##Your Code ends here"
      ]
    },
    {
      "cell_type": "markdown",
      "id": "9d9784e6",
      "metadata": {
        "id": "9d9784e6"
      },
      "source": [
        "###  Data Preprocessing"
      ]
    },
    {
      "cell_type": "code",
      "execution_count": null,
      "id": "3f6b0539",
      "metadata": {
        "id": "3f6b0539"
      },
      "outputs": [],
      "source": [
        "Datapoint.head()"
      ]
    },
    {
      "cell_type": "markdown",
      "id": "e33800f4",
      "metadata": {
        "id": "e33800f4"
      },
      "source": [
        "### PCA (Principal Component Analysis)\n",
        "> As you know for applying PCA we should scale our data points.Here we use MinMax and Standard Scaler.\n",
        "(First, use Standard Scaler)"
      ]
    },
    {
      "cell_type": "markdown",
      "id": "35jInTcr-OZW",
      "metadata": {
        "id": "35jInTcr-OZW"
      },
      "source": [
        "Calculate principal components and plot Explained variance by each component."
      ]
    },
    {
      "cell_type": "code",
      "execution_count": null,
      "id": "94827820",
      "metadata": {
        "id": "94827820"
      },
      "outputs": [],
      "source": [
        "##Your Code start here\n",
        "\n",
        "##Your Code ends here"
      ]
    },
    {
      "cell_type": "markdown",
      "id": "4Ehn1v1u_ays",
      "metadata": {
        "id": "4Ehn1v1u_ays"
      },
      "source": [
        "Apply PCA Algorithm from scratch and reduce the number of features to the number you have guessed in previous parts."
      ]
    },
    {
      "cell_type": "code",
      "execution_count": null,
      "id": "9e12dcd6",
      "metadata": {
        "id": "9e12dcd6"
      },
      "outputs": [],
      "source": [
        "##Your Code start here\n",
        "\n",
        "##Your Code ends here"
      ]
    },
    {
      "cell_type": "markdown",
      "id": "d3ba3f76",
      "metadata": {
        "id": "d3ba3f76"
      },
      "source": [
        "### PCA plot in 2D\n",
        "Plot data points using their two first features.What do you think about the number of clusters?"
      ]
    },
    {
      "cell_type": "code",
      "execution_count": null,
      "id": "bfae63d0",
      "metadata": {
        "id": "bfae63d0"
      },
      "outputs": [],
      "source": [
        "##Your Code start here\n",
        "\n",
        "##Your Code ends here"
      ]
    },
    {
      "cell_type": "markdown",
      "id": "080bc512",
      "metadata": {
        "id": "080bc512"
      },
      "source": [
        "### Do all previous steps for MinMax Scaling\n",
        "Tell your opinion about diffrences.\n",
        "\n",
        "\n"
      ]
    },
    {
      "cell_type": "code",
      "execution_count": null,
      "id": "UvKkw8qC9Giu",
      "metadata": {
        "id": "UvKkw8qC9Giu"
      },
      "outputs": [],
      "source": [
        "##Your Code start here\n",
        "\n",
        "##Your Code ends here"
      ]
    },
    {
      "cell_type": "markdown",
      "id": "7f3a0e1f",
      "metadata": {
        "id": "7f3a0e1f"
      },
      "source": [
        "### KMeans Clustering\n",
        "#### Elbow Method for Determining Cluster Amount on  Dataset"
      ]
    },
    {
      "cell_type": "markdown",
      "id": "DUrhj97f9c-7",
      "metadata": {
        "id": "DUrhj97f9c-7"
      },
      "source": [
        "Using the elbow method to find the optimal number of clusters"
      ]
    },
    {
      "cell_type": "code",
      "execution_count": null,
      "id": "qUGl1rwd9SZ2",
      "metadata": {
        "id": "qUGl1rwd9SZ2"
      },
      "outputs": [],
      "source": [
        "##Your Code start here\n",
        "\n",
        "##Your Code ends here"
      ]
    },
    {
      "cell_type": "markdown",
      "id": "BtAjErLCDvUh",
      "metadata": {
        "id": "BtAjErLCDvUh"
      },
      "source": [
        "What is inertia and silhouette metrics?\n",
        "Explain them briefly.\n",
        "\n",
        "\n"
      ]
    },
    {
      "cell_type": "code",
      "execution_count": null,
      "id": "a1a2e052",
      "metadata": {
        "id": "a1a2e052"
      },
      "outputs": [],
      "source": [
        "#You should save your final datapoints in pca_std_datapoint variable\n",
        "inertia = []\n",
        "for i in tqdm(range(2,10)):\n",
        "    kmeans = KMeans(n_clusters=i, init='k-means++', n_init=15, max_iter= 500, random_state=17)\n",
        "    kmeans.fit(pca_std_datapoint)\n",
        "    inertia.append(kmeans.inertia_)"
      ]
    },
    {
      "cell_type": "code",
      "execution_count": null,
      "id": "e1127413",
      "metadata": {
        "id": "e1127413"
      },
      "outputs": [],
      "source": [
        "silhouette = {}\n",
        "for i in tqdm(range(2,10)):\n",
        "    kmeans = KMeans(n_clusters=i, init='k-means++', n_init=15, max_iter=500, random_state=17)\n",
        "    kmeans.fit(pca_std_datapoint)\n",
        "    silhouette[i] = sil(pca_std_datapoint, kmeans.labels_, metric='euclidean')"
      ]
    },
    {
      "cell_type": "markdown",
      "id": "aoSZVfFqQcOB",
      "metadata": {
        "id": "aoSZVfFqQcOB"
      },
      "source": [
        "Plot the **inertia** and **silhouette ** values"
      ]
    },
    {
      "cell_type": "code",
      "execution_count": null,
      "id": "73c87211",
      "metadata": {
        "id": "73c87211"
      },
      "outputs": [],
      "source": [
        "##Your Code start here\n",
        "\n",
        "##Your Code ends here"
      ]
    },
    {
      "cell_type": "markdown",
      "id": "-qIUXiB4EM-g",
      "metadata": {
        "id": "-qIUXiB4EM-g"
      },
      "source": [
        "Tune the hyper parameters based on your conclusions."
      ]
    },
    {
      "cell_type": "code",
      "execution_count": null,
      "id": "eab0bab0",
      "metadata": {
        "id": "eab0bab0"
      },
      "outputs": [],
      "source": [
        "model_kmeans = KMeans(n_clusters=..., random_state=0, init='k-means++')\n",
        "y_predict_kmeans1 = model_kmeans.fit_predict(pca_std_datapoints)\n"
      ]
    },
    {
      "cell_type": "markdown",
      "id": "epOgtbJqAud-",
      "metadata": {
        "id": "epOgtbJqAud-"
      },
      "source": [
        "#Now plot the datapoints usig two first features\n",
        "(Each cluster in a different colour)"
      ]
    },
    {
      "cell_type": "code",
      "execution_count": null,
      "id": "bHFrqDRLA8lM",
      "metadata": {
        "id": "bHFrqDRLA8lM"
      },
      "outputs": [],
      "source": []
    },
    {
      "cell_type": "markdown",
      "id": "d0ad8c90",
      "metadata": {
        "id": "d0ad8c90"
      },
      "source": [
        "Do all previous steps for MinMax scaled data points.\n",
        "\n",
        "\n",
        "\n"
      ]
    },
    {
      "cell_type": "code",
      "execution_count": null,
      "id": "76DxGBjQRvMm",
      "metadata": {
        "id": "76DxGBjQRvMm"
      },
      "outputs": [],
      "source": []
    },
    {
      "cell_type": "markdown",
      "id": "fOLVOyKu_nec",
      "metadata": {
        "id": "fOLVOyKu_nec"
      },
      "source": [
        "Compare the results of different scaling methods in a PCA problem"
      ]
    }
  ],
  "metadata": {
    "colab": {
      "provenance": [],
      "include_colab_link": true
    },
    "kernelspec": {
      "display_name": "Python 3 (ipykernel)",
      "language": "python",
      "name": "python3"
    },
    "language_info": {
      "codemirror_mode": {
        "name": "ipython",
        "version": 3
      },
      "file_extension": ".py",
      "mimetype": "text/x-python",
      "name": "python",
      "nbconvert_exporter": "python",
      "pygments_lexer": "ipython3",
      "version": "3.9.7"
    }
  },
  "nbformat": 4,
  "nbformat_minor": 5
}